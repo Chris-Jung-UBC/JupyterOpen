{
 "cells": [
  {
   "cell_type": "markdown",
   "id": "3d0b8758-f2de-4be1-bf2b-f85ea505ac55",
   "metadata": {
    "tags": []
   },
   "source": [
    "# Title of Quiz\n",
    "## Name:\n",
    "## Student _Number:"
   ]
  },
  {
   "cell_type": "markdown",
   "id": "e798f38e-acf6-4dcf-88bb-0d07cd8d9dc0",
   "metadata": {
    "tags": []
   },
   "source": [
    "1. Import some libraries"
   ]
  },
  {
   "cell_type": "code",
   "execution_count": null,
   "id": "8705866f-0633-4e31-9712-0bbd458d92fe",
   "metadata": {
    "tags": []
   },
   "outputs": [],
   "source": []
  },
  {
   "cell_type": "markdown",
   "id": "393a9382-204b-42ce-8f99-54a8d8836a21",
   "metadata": {},
   "source": [
    "2. Insert a print command. "
   ]
  },
  {
   "cell_type": "code",
   "execution_count": null,
   "id": "821ebf15-d840-4057-96e4-acec0143a429",
   "metadata": {},
   "outputs": [],
   "source": []
  },
  {
   "cell_type": "markdown",
   "id": "e90fcde7-ff07-40a3-b4e5-7a19641b475c",
   "metadata": {},
   "source": [
    "3. Given the variables, create some sort of equation"
   ]
  },
  {
   "cell_type": "code",
   "execution_count": null,
   "id": "216be698-25ce-4e01-b87b-3cbb6bf6dc83",
   "metadata": {},
   "outputs": [],
   "source": [
    "seq1 <- c(24, 82, 559)\n",
    "seq2 <- c(100, 200, 300)\n",
    "stuff <- data.frame(seq1, seq2)\n"
   ]
  },
  {
   "cell_type": "code",
   "execution_count": null,
   "id": "6c2ea32c-5707-4482-90ec-2dfca00784f0",
   "metadata": {},
   "outputs": [],
   "source": []
  }
 ],
 "metadata": {
  "kernelspec": {
   "display_name": "R",
   "language": "R",
   "name": "ir"
  },
  "language_info": {
   "codemirror_mode": "r",
   "file_extension": ".r",
   "mimetype": "text/x-r-source",
   "name": "R",
   "pygments_lexer": "r",
   "version": "4.2.2"
  }
 },
 "nbformat": 4,
 "nbformat_minor": 5
}
